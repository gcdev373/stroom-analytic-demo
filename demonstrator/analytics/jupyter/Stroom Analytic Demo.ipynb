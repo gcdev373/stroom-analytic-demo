{
 "cells": [
  {
   "cell_type": "markdown",
   "metadata": {},
   "source": [
    "# Stroom Spark DataSource - Use for Analytic Creation\n",
    "\n",
    "### How to obtain a DataFrame for further processing or analysis within Spark."
   ]
  },
  {
   "cell_type": "markdown",
   "metadata": {},
   "source": [
    "#### Prerequisites\n",
    "This notebook is designed to work with a Stroom server process running on `localhost`, into which data from `EventGen` application has been ingested and indexed in the manner described in `stroom-analytic-demo`.\n",
    "\n",
    "You must set the environmental variable `STROOM_API_KEY` to the API token associated with a suitably privileged Stroom user account before starting the Jupyter notebook server process."
   ]
  },
  {
   "cell_type": "code",
   "execution_count": 1,
   "metadata": {},
   "outputs": [],
   "source": [
    "from pyspark.sql.types import *\n",
    "from pyspark.sql.functions import from_json, col\n",
    "from IPython.display import display\n",
    "import time,os"
   ]
  },
  {
   "cell_type": "markdown",
   "metadata": {},
   "source": [
    "#### Basic Usage\n",
    "Create the most basic kind of DataFrame to pull data from the Stroom index \"Sample Index\", and view the first records.\n",
    "\n",
    "All the fields in the index can be searched using the field name **idxFieldName**, where FieldName is the name of the field within the Stroom index.\n",
    "\n",
    "The specified pipeline is a Stroom Search Extraction Pipeline that uses the stroom:json XSLT function to create a JSON representation of the entire event.  This field is called \"Json\" by default but the name of the field that contains the JSON representation can (optionally) be changed with the parameter jsonField.\n",
    "\n",
    "In this manner, all data is returned as a single JSON structure within the field **json**"
   ]
  },
  {
   "cell_type": "code",
   "execution_count": 2,
   "metadata": {},
   "outputs": [],
   "source": [
    "basicDf = spark.read.format('stroom.spark.datasource.StroomDataSource').load(\n",
    "        token=os.environ['STROOM_API_KEY'],host='localhost',protocol='http',\n",
    "        uri='api/stroom-index/v2',\n",
    "        index='32dfd401-ee11-49b9-84c9-88c3d3f68dc2',pipeline='13143179-b494-4146-ac4b-9a6010cada89')"
   ]
  },
  {
   "cell_type": "code",
   "execution_count": 3,
   "metadata": {},
   "outputs": [
    {
     "data": {
      "text/html": [
       "<div>\n",
       "<style scoped>\n",
       "    .dataframe tbody tr th:only-of-type {\n",
       "        vertical-align: middle;\n",
       "    }\n",
       "\n",
       "    .dataframe tbody tr th {\n",
       "        vertical-align: top;\n",
       "    }\n",
       "\n",
       "    .dataframe thead th {\n",
       "        text-align: right;\n",
       "    }\n",
       "</style>\n",
       "<table border=\"1\" class=\"dataframe\">\n",
       "  <thead>\n",
       "    <tr style=\"text-align: right;\">\n",
       "      <th></th>\n",
       "      <th>json</th>\n",
       "      <th>idxStreamId</th>\n",
       "      <th>idxEventId</th>\n",
       "      <th>idxFeed</th>\n",
       "      <th>idxFeed (Keyword)</th>\n",
       "      <th>idxAction</th>\n",
       "      <th>idxEventTime</th>\n",
       "      <th>idxUserId</th>\n",
       "      <th>idxSystem</th>\n",
       "      <th>idxEnvironment</th>\n",
       "      <th>idxIPAddress</th>\n",
       "      <th>idxHostName</th>\n",
       "      <th>idxGenerator</th>\n",
       "      <th>idxCommand</th>\n",
       "      <th>idxCommand (Keyword)</th>\n",
       "      <th>idxDescription</th>\n",
       "      <th>idxDescription (Case Sensitive)</th>\n",
       "    </tr>\n",
       "  </thead>\n",
       "  <tbody>\n",
       "    <tr>\n",
       "      <td>0</td>\n",
       "      <td>[{\"StreamId\":\"4830\",\"EventId\":\"1\",\"EventTime\":...</td>\n",
       "      <td></td>\n",
       "      <td></td>\n",
       "      <td></td>\n",
       "      <td></td>\n",
       "      <td></td>\n",
       "      <td></td>\n",
       "      <td></td>\n",
       "      <td></td>\n",
       "      <td></td>\n",
       "      <td></td>\n",
       "      <td></td>\n",
       "      <td></td>\n",
       "      <td></td>\n",
       "      <td></td>\n",
       "      <td></td>\n",
       "      <td></td>\n",
       "    </tr>\n",
       "    <tr>\n",
       "      <td>1</td>\n",
       "      <td>[{\"StreamId\":\"4830\",\"EventId\":\"2\",\"EventTime\":...</td>\n",
       "      <td></td>\n",
       "      <td></td>\n",
       "      <td></td>\n",
       "      <td></td>\n",
       "      <td></td>\n",
       "      <td></td>\n",
       "      <td></td>\n",
       "      <td></td>\n",
       "      <td></td>\n",
       "      <td></td>\n",
       "      <td></td>\n",
       "      <td></td>\n",
       "      <td></td>\n",
       "      <td></td>\n",
       "      <td></td>\n",
       "      <td></td>\n",
       "    </tr>\n",
       "    <tr>\n",
       "      <td>2</td>\n",
       "      <td>[{\"StreamId\":\"4830\",\"EventId\":\"3\",\"EventTime\":...</td>\n",
       "      <td></td>\n",
       "      <td></td>\n",
       "      <td></td>\n",
       "      <td></td>\n",
       "      <td></td>\n",
       "      <td></td>\n",
       "      <td></td>\n",
       "      <td></td>\n",
       "      <td></td>\n",
       "      <td></td>\n",
       "      <td></td>\n",
       "      <td></td>\n",
       "      <td></td>\n",
       "      <td></td>\n",
       "      <td></td>\n",
       "      <td></td>\n",
       "    </tr>\n",
       "    <tr>\n",
       "      <td>3</td>\n",
       "      <td>[{\"StreamId\":\"4830\",\"EventId\":\"4\",\"EventTime\":...</td>\n",
       "      <td></td>\n",
       "      <td></td>\n",
       "      <td></td>\n",
       "      <td></td>\n",
       "      <td></td>\n",
       "      <td></td>\n",
       "      <td></td>\n",
       "      <td></td>\n",
       "      <td></td>\n",
       "      <td></td>\n",
       "      <td></td>\n",
       "      <td></td>\n",
       "      <td></td>\n",
       "      <td></td>\n",
       "      <td></td>\n",
       "      <td></td>\n",
       "    </tr>\n",
       "    <tr>\n",
       "      <td>4</td>\n",
       "      <td>[{\"StreamId\":\"4830\",\"EventId\":\"5\",\"EventTime\":...</td>\n",
       "      <td></td>\n",
       "      <td></td>\n",
       "      <td></td>\n",
       "      <td></td>\n",
       "      <td></td>\n",
       "      <td></td>\n",
       "      <td></td>\n",
       "      <td></td>\n",
       "      <td></td>\n",
       "      <td></td>\n",
       "      <td></td>\n",
       "      <td></td>\n",
       "      <td></td>\n",
       "      <td></td>\n",
       "      <td></td>\n",
       "      <td></td>\n",
       "    </tr>\n",
       "  </tbody>\n",
       "</table>\n",
       "</div>"
      ],
      "text/plain": [
       "                                                json idxStreamId idxEventId  \\\n",
       "0  [{\"StreamId\":\"4830\",\"EventId\":\"1\",\"EventTime\":...                          \n",
       "1  [{\"StreamId\":\"4830\",\"EventId\":\"2\",\"EventTime\":...                          \n",
       "2  [{\"StreamId\":\"4830\",\"EventId\":\"3\",\"EventTime\":...                          \n",
       "3  [{\"StreamId\":\"4830\",\"EventId\":\"4\",\"EventTime\":...                          \n",
       "4  [{\"StreamId\":\"4830\",\"EventId\":\"5\",\"EventTime\":...                          \n",
       "\n",
       "  idxFeed idxFeed (Keyword) idxAction idxEventTime idxUserId idxSystem  \\\n",
       "0                                                                        \n",
       "1                                                                        \n",
       "2                                                                        \n",
       "3                                                                        \n",
       "4                                                                        \n",
       "\n",
       "  idxEnvironment idxIPAddress idxHostName idxGenerator idxCommand  \\\n",
       "0                                                                   \n",
       "1                                                                   \n",
       "2                                                                   \n",
       "3                                                                   \n",
       "4                                                                   \n",
       "\n",
       "  idxCommand (Keyword) idxDescription idxDescription (Case Sensitive)  \n",
       "0                                                                      \n",
       "1                                                                      \n",
       "2                                                                      \n",
       "3                                                                      \n",
       "4                                                                      "
      ]
     },
     "metadata": {},
     "output_type": "display_data"
    }
   ],
   "source": [
    "display(basicDf.limit(5).toPandas().head()) "
   ]
  },
  {
   "cell_type": "markdown",
   "metadata": {},
   "source": [
    "#### Working with JSON\n",
    "\n",
    "The JSON is much easier to work with when parsed into a structure by Spark.\n",
    "\n",
    "First it is necessary to perform some schema discovery.  Here the schema is made available as a variable called json_schema which can be inspected in the normal way."
   ]
  },
  {
   "cell_type": "code",
   "execution_count": 4,
   "metadata": {},
   "outputs": [
    {
     "data": {
      "text/plain": [
       "StructType(List(StructField(EventDetail,StructType(List(StructField(Authenticate,StructType(List(StructField(Action,StringType,true),StructField(Outcome,StructType(List(StructField(Permitted,StringType,true),StructField(Reason,StringType,true),StructField(Success,StringType,true))),true),StructField(User,StructType(List(StructField(Id,StringType,true))),true))),true),StructField(Process,StructType(List(StructField(Action,StringType,true),StructField(Command,StringType,true),StructField(Type,StringType,true))),true),StructField(TypeId,StringType,true))),true),StructField(EventId,StringType,true),StructField(EventSource,StructType(List(StructField(Client,StructType(List(StructField(HostName,StringType,true))),true),StructField(Device,StructType(List(StructField(HostName,StringType,true))),true),StructField(Generator,StringType,true),StructField(System,StructType(List(StructField(Environment,StringType,true),StructField(Name,StringType,true))),true),StructField(User,StructType(List(StructField(Id,StringType,true))),true))),true),StructField(EventTime,StructType(List(StructField(TimeCreated,StringType,true))),true),StructField(StreamId,StringType,true)))"
      ]
     },
     "execution_count": 4,
     "metadata": {},
     "output_type": "execute_result"
    }
   ],
   "source": [
    "json_schema = spark.read.json(basicDf.rdd.map(lambda row: row.json)).schema\n",
    "\n",
    "json_schema"
   ]
  },
  {
   "cell_type": "markdown",
   "metadata": {},
   "source": [
    "#### Working with JSON (cont)\n",
    "\n",
    "The schema created above can also be used for Spark Streaming via Kafka.\n"
   ]
  },
  {
   "cell_type": "code",
   "execution_count": 5,
   "metadata": {},
   "outputs": [
    {
     "name": "stdout",
     "output_type": "stream",
     "text": [
      "-------------------------------------------\n",
      "Time: 2019-11-20 16:12:25\n",
      "-------------------------------------------\n",
      "('User60', '[{\"StreamId\":\"4830\",\"EventId\":\"5099\",\"EventTime\":{\"TimeCreated\":\"2019-11-08T12:00:15.000Z\"},\"EventSource\":{\"System\":{\"Name\":\"VPN\",\"Environment\":\"DEMO\"},\"Generator\":\"VPN Log\",\"Device\":{\"HostName\":\"Central VPN\"},\"Client\":{\"HostName\":\"Device309\"}},\"EventDetail\":{\"TypeId\":\"Login\",\"Authenticate\":{\"Action\":\"Logon\",\"User\":{\"Id\":\"User60\"}}}}]')\n",
      "('User44', '[{\"StreamId\":\"4830\",\"EventId\":\"5100\",\"EventTime\":{\"TimeCreated\":\"2019-11-08T12:02:36.000Z\"},\"EventSource\":{\"System\":{\"Name\":\"VPN\",\"Environment\":\"DEMO\"},\"Generator\":\"VPN Log\",\"Device\":{\"HostName\":\"Central VPN\"},\"Client\":{\"HostName\":\"Device19\"}},\"EventDetail\":{\"TypeId\":\"Login\",\"Authenticate\":{\"Action\":\"Logon\",\"User\":{\"Id\":\"User44\"}}}}]')\n",
      "('User56', '[{\"StreamId\":\"4830\",\"EventId\":\"5101\",\"EventTime\":{\"TimeCreated\":\"2019-11-08T12:03:46.000Z\"},\"EventSource\":{\"System\":{\"Name\":\"VPN\",\"Environment\":\"DEMO\"},\"Generator\":\"VPN Log\",\"Device\":{\"HostName\":\"Central VPN\"},\"Client\":{\"HostName\":\"Device305\"}},\"EventDetail\":{\"TypeId\":\"Logout\",\"Authenticate\":{\"Action\":\"Logoff\",\"User\":{\"Id\":\"User56\"}}}}]')\n",
      "('User87', '[{\"StreamId\":\"4830\",\"EventId\":\"5102\",\"EventTime\":{\"TimeCreated\":\"2019-11-08T12:04:33.000Z\"},\"EventSource\":{\"System\":{\"Name\":\"VPN\",\"Environment\":\"DEMO\"},\"Generator\":\"VPN Log\",\"Device\":{\"HostName\":\"Central VPN\"},\"Client\":{\"HostName\":\"Device772\"}},\"EventDetail\":{\"TypeId\":\"Login\",\"Authenticate\":{\"Action\":\"Logon\",\"User\":{\"Id\":\"User87\"}}}}]')\n",
      "('User201', '[{\"StreamId\":\"4830\",\"EventId\":\"5103\",\"EventTime\":{\"TimeCreated\":\"2019-11-08T12:05:40.000Z\"},\"EventSource\":{\"System\":{\"Name\":\"VPN\",\"Environment\":\"DEMO\"},\"Generator\":\"VPN Log\",\"Device\":{\"HostName\":\"Central VPN\"},\"Client\":{\"HostName\":\"Device722\"}},\"EventDetail\":{\"TypeId\":\"Login\",\"Authenticate\":{\"Action\":\"Logon\",\"User\":{\"Id\":\"User201\"}}}}]')\n",
      "('User108', '[{\"StreamId\":\"4830\",\"EventId\":\"5104\",\"EventTime\":{\"TimeCreated\":\"2019-11-08T12:10:58.000Z\"},\"EventSource\":{\"System\":{\"Name\":\"VPN\",\"Environment\":\"DEMO\"},\"Generator\":\"VPN Log\",\"Device\":{\"HostName\":\"Central VPN\"},\"Client\":{\"HostName\":\"Device39\"}},\"EventDetail\":{\"TypeId\":\"Login\",\"Authenticate\":{\"Action\":\"Logon\",\"User\":{\"Id\":\"User108\"}}}}]')\n",
      "('User341', '[{\"StreamId\":\"4830\",\"EventId\":\"5105\",\"EventTime\":{\"TimeCreated\":\"2019-11-08T12:11:45.000Z\"},\"EventSource\":{\"System\":{\"Name\":\"VPN\",\"Environment\":\"DEMO\"},\"Generator\":\"VPN Log\",\"Device\":{\"HostName\":\"Central VPN\"},\"Client\":{\"HostName\":\"Device152\"}},\"EventDetail\":{\"TypeId\":\"Login\",\"Authenticate\":{\"Action\":\"Logon\",\"User\":{\"Id\":\"User341\"}}}}]')\n",
      "('User142', '[{\"StreamId\":\"4830\",\"EventId\":\"5106\",\"EventTime\":{\"TimeCreated\":\"2019-11-08T12:11:56.000Z\"},\"EventSource\":{\"System\":{\"Name\":\"VPN\",\"Environment\":\"DEMO\"},\"Generator\":\"VPN Log\",\"Device\":{\"HostName\":\"Central VPN\"},\"Client\":{\"HostName\":\"Device268\"}},\"EventDetail\":{\"TypeId\":\"Login\",\"Authenticate\":{\"Action\":\"Logon\",\"User\":{\"Id\":\"User142\"}}}}]')\n",
      "('User441', '[{\"StreamId\":\"4830\",\"EventId\":\"5107\",\"EventTime\":{\"TimeCreated\":\"2019-11-08T12:12:59.000Z\"},\"EventSource\":{\"System\":{\"Name\":\"VPN\",\"Environment\":\"DEMO\"},\"Generator\":\"VPN Log\",\"Device\":{\"HostName\":\"Central VPN\"},\"Client\":{\"HostName\":\"Device748\"}},\"EventDetail\":{\"TypeId\":\"Login\",\"Authenticate\":{\"Action\":\"Logon\",\"User\":{\"Id\":\"User441\"}}}}]')\n",
      "('User144', '[{\"StreamId\":\"4830\",\"EventId\":\"5108\",\"EventTime\":{\"TimeCreated\":\"2019-11-08T12:13:46.000Z\"},\"EventSource\":{\"System\":{\"Name\":\"VPN\",\"Environment\":\"DEMO\"},\"Generator\":\"VPN Log\",\"Device\":{\"HostName\":\"Central VPN\"},\"Client\":{\"HostName\":\"Device944\"}},\"EventDetail\":{\"TypeId\":\"Login\",\"Authenticate\":{\"Action\":\"Logon\",\"User\":{\"Id\":\"User144\"}}}}]')\n",
      "...\n",
      "\n",
      "-------------------------------------------\n",
      "Time: 2019-11-20 16:12:30\n",
      "-------------------------------------------\n",
      "\n",
      "-------------------------------------------\n",
      "Time: 2019-11-20 16:12:35\n",
      "-------------------------------------------\n",
      "\n",
      "-------------------------------------------\n",
      "Time: 2019-11-20 16:12:40\n",
      "-------------------------------------------\n",
      "\n",
      "-------------------------------------------\n",
      "Time: 2019-11-20 16:12:45\n",
      "-------------------------------------------\n",
      "\n"
     ]
    },
    {
     "ename": "KeyboardInterrupt",
     "evalue": "",
     "output_type": "error",
     "traceback": [
      "\u001b[0;31m---------------------------------------------------------------------------\u001b[0m",
      "\u001b[0;31mKeyboardInterrupt\u001b[0m                         Traceback (most recent call last)",
      "\u001b[0;32m<ipython-input-5-9c7bd3154b8f>\u001b[0m in \u001b[0;36m<module>\u001b[0;34m\u001b[0m\n\u001b[1;32m     16\u001b[0m \u001b[0mkvs\u001b[0m\u001b[0;34m.\u001b[0m\u001b[0mpprint\u001b[0m\u001b[0;34m(\u001b[0m\u001b[0;34m)\u001b[0m\u001b[0;34m\u001b[0m\u001b[0;34m\u001b[0m\u001b[0m\n\u001b[1;32m     17\u001b[0m \u001b[0mssc\u001b[0m\u001b[0;34m.\u001b[0m\u001b[0mstart\u001b[0m\u001b[0;34m(\u001b[0m\u001b[0;34m)\u001b[0m\u001b[0;34m\u001b[0m\u001b[0;34m\u001b[0m\u001b[0m\n\u001b[0;32m---> 18\u001b[0;31m \u001b[0mssc\u001b[0m\u001b[0;34m.\u001b[0m\u001b[0mawaitTermination\u001b[0m\u001b[0;34m(\u001b[0m\u001b[0;34m)\u001b[0m\u001b[0;34m\u001b[0m\u001b[0;34m\u001b[0m\u001b[0m\n\u001b[0m",
      "\u001b[0;32m~/Spark/spark-2.4.3-bin-hadoop2.7/python/pyspark/streaming/context.py\u001b[0m in \u001b[0;36mawaitTermination\u001b[0;34m(self, timeout)\u001b[0m\n\u001b[1;32m    190\u001b[0m         \"\"\"\n\u001b[1;32m    191\u001b[0m         \u001b[0;32mif\u001b[0m \u001b[0mtimeout\u001b[0m \u001b[0;32mis\u001b[0m \u001b[0;32mNone\u001b[0m\u001b[0;34m:\u001b[0m\u001b[0;34m\u001b[0m\u001b[0;34m\u001b[0m\u001b[0m\n\u001b[0;32m--> 192\u001b[0;31m             \u001b[0mself\u001b[0m\u001b[0;34m.\u001b[0m\u001b[0m_jssc\u001b[0m\u001b[0;34m.\u001b[0m\u001b[0mawaitTermination\u001b[0m\u001b[0;34m(\u001b[0m\u001b[0;34m)\u001b[0m\u001b[0;34m\u001b[0m\u001b[0;34m\u001b[0m\u001b[0m\n\u001b[0m\u001b[1;32m    193\u001b[0m         \u001b[0;32melse\u001b[0m\u001b[0;34m:\u001b[0m\u001b[0;34m\u001b[0m\u001b[0;34m\u001b[0m\u001b[0m\n\u001b[1;32m    194\u001b[0m             \u001b[0mself\u001b[0m\u001b[0;34m.\u001b[0m\u001b[0m_jssc\u001b[0m\u001b[0;34m.\u001b[0m\u001b[0mawaitTerminationOrTimeout\u001b[0m\u001b[0;34m(\u001b[0m\u001b[0mint\u001b[0m\u001b[0;34m(\u001b[0m\u001b[0mtimeout\u001b[0m \u001b[0;34m*\u001b[0m \u001b[0;36m1000\u001b[0m\u001b[0;34m)\u001b[0m\u001b[0;34m)\u001b[0m\u001b[0;34m\u001b[0m\u001b[0;34m\u001b[0m\u001b[0m\n",
      "\u001b[0;32m~/Spark/spark-2.4.3-bin-hadoop2.7/python/lib/py4j-0.10.7-src.zip/py4j/java_gateway.py\u001b[0m in \u001b[0;36m__call__\u001b[0;34m(self, *args)\u001b[0m\n\u001b[1;32m   1253\u001b[0m             \u001b[0mproto\u001b[0m\u001b[0;34m.\u001b[0m\u001b[0mEND_COMMAND_PART\u001b[0m\u001b[0;34m\u001b[0m\u001b[0;34m\u001b[0m\u001b[0m\n\u001b[1;32m   1254\u001b[0m \u001b[0;34m\u001b[0m\u001b[0m\n\u001b[0;32m-> 1255\u001b[0;31m         \u001b[0manswer\u001b[0m \u001b[0;34m=\u001b[0m \u001b[0mself\u001b[0m\u001b[0;34m.\u001b[0m\u001b[0mgateway_client\u001b[0m\u001b[0;34m.\u001b[0m\u001b[0msend_command\u001b[0m\u001b[0;34m(\u001b[0m\u001b[0mcommand\u001b[0m\u001b[0;34m)\u001b[0m\u001b[0;34m\u001b[0m\u001b[0;34m\u001b[0m\u001b[0m\n\u001b[0m\u001b[1;32m   1256\u001b[0m         return_value = get_return_value(\n\u001b[1;32m   1257\u001b[0m             answer, self.gateway_client, self.target_id, self.name)\n",
      "\u001b[0;32m~/Spark/spark-2.4.3-bin-hadoop2.7/python/lib/py4j-0.10.7-src.zip/py4j/java_gateway.py\u001b[0m in \u001b[0;36msend_command\u001b[0;34m(self, command, retry, binary)\u001b[0m\n\u001b[1;32m    983\u001b[0m         \u001b[0mconnection\u001b[0m \u001b[0;34m=\u001b[0m \u001b[0mself\u001b[0m\u001b[0;34m.\u001b[0m\u001b[0m_get_connection\u001b[0m\u001b[0;34m(\u001b[0m\u001b[0;34m)\u001b[0m\u001b[0;34m\u001b[0m\u001b[0;34m\u001b[0m\u001b[0m\n\u001b[1;32m    984\u001b[0m         \u001b[0;32mtry\u001b[0m\u001b[0;34m:\u001b[0m\u001b[0;34m\u001b[0m\u001b[0;34m\u001b[0m\u001b[0m\n\u001b[0;32m--> 985\u001b[0;31m             \u001b[0mresponse\u001b[0m \u001b[0;34m=\u001b[0m \u001b[0mconnection\u001b[0m\u001b[0;34m.\u001b[0m\u001b[0msend_command\u001b[0m\u001b[0;34m(\u001b[0m\u001b[0mcommand\u001b[0m\u001b[0;34m)\u001b[0m\u001b[0;34m\u001b[0m\u001b[0;34m\u001b[0m\u001b[0m\n\u001b[0m\u001b[1;32m    986\u001b[0m             \u001b[0;32mif\u001b[0m \u001b[0mbinary\u001b[0m\u001b[0;34m:\u001b[0m\u001b[0;34m\u001b[0m\u001b[0;34m\u001b[0m\u001b[0m\n\u001b[1;32m    987\u001b[0m                 \u001b[0;32mreturn\u001b[0m \u001b[0mresponse\u001b[0m\u001b[0;34m,\u001b[0m \u001b[0mself\u001b[0m\u001b[0;34m.\u001b[0m\u001b[0m_create_connection_guard\u001b[0m\u001b[0;34m(\u001b[0m\u001b[0mconnection\u001b[0m\u001b[0;34m)\u001b[0m\u001b[0;34m\u001b[0m\u001b[0;34m\u001b[0m\u001b[0m\n",
      "\u001b[0;32m~/Spark/spark-2.4.3-bin-hadoop2.7/python/lib/py4j-0.10.7-src.zip/py4j/java_gateway.py\u001b[0m in \u001b[0;36msend_command\u001b[0;34m(self, command)\u001b[0m\n\u001b[1;32m   1150\u001b[0m \u001b[0;34m\u001b[0m\u001b[0m\n\u001b[1;32m   1151\u001b[0m         \u001b[0;32mtry\u001b[0m\u001b[0;34m:\u001b[0m\u001b[0;34m\u001b[0m\u001b[0;34m\u001b[0m\u001b[0m\n\u001b[0;32m-> 1152\u001b[0;31m             \u001b[0manswer\u001b[0m \u001b[0;34m=\u001b[0m \u001b[0msmart_decode\u001b[0m\u001b[0;34m(\u001b[0m\u001b[0mself\u001b[0m\u001b[0;34m.\u001b[0m\u001b[0mstream\u001b[0m\u001b[0;34m.\u001b[0m\u001b[0mreadline\u001b[0m\u001b[0;34m(\u001b[0m\u001b[0;34m)\u001b[0m\u001b[0;34m[\u001b[0m\u001b[0;34m:\u001b[0m\u001b[0;34m-\u001b[0m\u001b[0;36m1\u001b[0m\u001b[0;34m]\u001b[0m\u001b[0;34m)\u001b[0m\u001b[0;34m\u001b[0m\u001b[0;34m\u001b[0m\u001b[0m\n\u001b[0m\u001b[1;32m   1153\u001b[0m             \u001b[0mlogger\u001b[0m\u001b[0;34m.\u001b[0m\u001b[0mdebug\u001b[0m\u001b[0;34m(\u001b[0m\u001b[0;34m\"Answer received: {0}\"\u001b[0m\u001b[0;34m.\u001b[0m\u001b[0mformat\u001b[0m\u001b[0;34m(\u001b[0m\u001b[0manswer\u001b[0m\u001b[0;34m)\u001b[0m\u001b[0;34m)\u001b[0m\u001b[0;34m\u001b[0m\u001b[0;34m\u001b[0m\u001b[0m\n\u001b[1;32m   1154\u001b[0m             \u001b[0;32mif\u001b[0m \u001b[0manswer\u001b[0m\u001b[0;34m.\u001b[0m\u001b[0mstartswith\u001b[0m\u001b[0;34m(\u001b[0m\u001b[0mproto\u001b[0m\u001b[0;34m.\u001b[0m\u001b[0mRETURN_MESSAGE\u001b[0m\u001b[0;34m)\u001b[0m\u001b[0;34m:\u001b[0m\u001b[0;34m\u001b[0m\u001b[0;34m\u001b[0m\u001b[0m\n",
      "\u001b[0;32m/usr/lib/python3.7/socket.py\u001b[0m in \u001b[0;36mreadinto\u001b[0;34m(self, b)\u001b[0m\n\u001b[1;32m    587\u001b[0m         \u001b[0;32mwhile\u001b[0m \u001b[0;32mTrue\u001b[0m\u001b[0;34m:\u001b[0m\u001b[0;34m\u001b[0m\u001b[0;34m\u001b[0m\u001b[0m\n\u001b[1;32m    588\u001b[0m             \u001b[0;32mtry\u001b[0m\u001b[0;34m:\u001b[0m\u001b[0;34m\u001b[0m\u001b[0;34m\u001b[0m\u001b[0m\n\u001b[0;32m--> 589\u001b[0;31m                 \u001b[0;32mreturn\u001b[0m \u001b[0mself\u001b[0m\u001b[0;34m.\u001b[0m\u001b[0m_sock\u001b[0m\u001b[0;34m.\u001b[0m\u001b[0mrecv_into\u001b[0m\u001b[0;34m(\u001b[0m\u001b[0mb\u001b[0m\u001b[0;34m)\u001b[0m\u001b[0;34m\u001b[0m\u001b[0;34m\u001b[0m\u001b[0m\n\u001b[0m\u001b[1;32m    590\u001b[0m             \u001b[0;32mexcept\u001b[0m \u001b[0mtimeout\u001b[0m\u001b[0;34m:\u001b[0m\u001b[0;34m\u001b[0m\u001b[0;34m\u001b[0m\u001b[0m\n\u001b[1;32m    591\u001b[0m                 \u001b[0mself\u001b[0m\u001b[0;34m.\u001b[0m\u001b[0m_timeout_occurred\u001b[0m \u001b[0;34m=\u001b[0m \u001b[0;32mTrue\u001b[0m\u001b[0;34m\u001b[0m\u001b[0;34m\u001b[0m\u001b[0m\n",
      "\u001b[0;31mKeyboardInterrupt\u001b[0m: "
     ]
    }
   ],
   "source": [
    "from pyspark.streaming import StreamingContext\n",
    "from pyspark.streaming.kafka import KafkaUtils\n",
    "\n",
    "ssc = StreamingContext(sc, 5)\n",
    "\n",
    "kafkaProps = {'application.id': 'UEBA-DEMO',\\\n",
    "              'auto.offset.reset': 'smallest',\\\n",
    "              'bootstrap.servers': 'localhost:9092',\\\n",
    "              'metadata.broker.list': 'localhost:9092'}\n",
    "\n",
    "\n",
    "topic = 'ANALYTIC-DEMO-UEBA'\n",
    "\n",
    "kvs = KafkaUtils.createDirectStream(ssc,[topic],kafkaProps)\n",
    "\n",
    "kvs.pprint()\n",
    "ssc.start()\n",
    "ssc.awaitTermination()"
   ]
  },
  {
   "cell_type": "code",
   "execution_count": null,
   "metadata": {},
   "outputs": [],
   "source": []
  },
  {
   "cell_type": "code",
   "execution_count": null,
   "metadata": {},
   "outputs": [],
   "source": []
  }
 ],
 "metadata": {
  "kernelspec": {
   "display_name": "Python 3",
   "language": "python",
   "name": "python3"
  },
  "language_info": {
   "codemirror_mode": {
    "name": "ipython",
    "version": 3
   },
   "file_extension": ".py",
   "mimetype": "text/x-python",
   "name": "python",
   "nbconvert_exporter": "python",
   "pygments_lexer": "ipython3",
   "version": "3.7.4"
  }
 },
 "nbformat": 4,
 "nbformat_minor": 2
}
