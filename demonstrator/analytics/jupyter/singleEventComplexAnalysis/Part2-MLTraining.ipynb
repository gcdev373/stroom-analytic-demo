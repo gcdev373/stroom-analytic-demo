{
 "cells": [
  {
   "cell_type": "markdown",
   "metadata": {},
   "source": [
    "# Single Event with Complex Analysis\n",
    "\n",
    "## Part Two (ML Training)"
   ]
  },
  {
   "cell_type": "markdown",
   "metadata": {},
   "source": [
    "#### Prerequisites\n",
    "This notebook is designed to work with a Stroom server process running on `localhost`, into which data from `EventGen` application has been ingested and indexed in the manner described in the previous notebook of this series \"Part One (Data Exploration)\"\n",
    "\n",
    "You must set the environmental variable `STROOM_API_KEY` to the API token associated with a suitably privileged Stroom user account before starting the Jupyter notebook server process."
   ]
  },
  {
   "cell_type": "code",
   "execution_count": 1,
   "metadata": {},
   "outputs": [],
   "source": [
    "from pyspark.sql.types import *\n",
    "from pyspark.sql.functions import from_json, col, coalesce, unix_timestamp,lit,to_timestamp,hour,date_format,date_trunc\n",
    "from pyspark.ml.feature import OneHotEncoderEstimator,VectorAssembler,StringIndexer\n",
    "from pyspark.ml.regression import LinearRegression,RandomForestRegressor\n",
    "from pyspark.ml.classification import LogisticRegression\n",
    "from pyspark.ml import Pipeline\n",
    "from IPython.display import display\n",
    "import time,os"
   ]
  },
  {
   "cell_type": "markdown",
   "metadata": {},
   "source": [
    "#### Schema Discovery\n",
    "It is necessary to specify the structure of the JSON data arriving on the topic.  This structure can be determined at runtime.\n",
    "\n",
    "As the same format of data is also available via an indexed search using the `stroom-spark-datasource`, one way to determine the JSON schema is by interrogating the data held in the `Sample Index` Stroom index.\n",
    "\n",
    "The specified pipeline is a Stroom Search Extraction Pipeline that uses the stroom:json XSLT function to create a JSON representation of the entire event.  This field is called \"Json\" by default but the name of the field that contains the JSON representation can (optionally) be changed with the parameter jsonField.\n",
    "\n",
    "In this manner, all data is returned as a single JSON structure within the field **json**"
   ]
  },
  {
   "cell_type": "code",
   "execution_count": 4,
   "metadata": {},
   "outputs": [
    {
     "name": "stdout",
     "output_type": "stream",
     "text": [
      "Using  2371  records for training\n"
     ]
    },
    {
     "data": {
      "text/plain": [
       "StructType(List(StructField(EventDetail,StructType(List(StructField(Authenticate,StructType(List(StructField(Action,StringType,true),StructField(Outcome,StructType(List(StructField(Permitted,StringType,true),StructField(Reason,StringType,true),StructField(Success,StringType,true))),true),StructField(User,StructType(List(StructField(Id,StringType,true))),true))),true),StructField(TypeId,StringType,true))),true),StructField(EventId,StringType,true),StructField(EventSource,StructType(List(StructField(Device,StructType(List(StructField(HostName,StringType,true))),true),StructField(Generator,StringType,true),StructField(System,StructType(List(StructField(Environment,StringType,true),StructField(Name,StringType,true))),true))),true),StructField(EventTime,StructType(List(StructField(TimeCreated,StringType,true))),true),StructField(StreamId,StringType,true)))"
      ]
     },
     "execution_count": 4,
     "metadata": {},
     "output_type": "execute_result"
    }
   ],
   "source": [
    "spark = SparkSession \\\n",
    "    .builder \\\n",
    "    .appName(\"MyTestApp\") \\\n",
    "    .getOrCreate()\n",
    "schemaDf = spark.read.format('stroom.spark.datasource.StroomDataSource').load(\n",
    "        token=os.environ['STROOM_API_KEY'],host='localhost',protocol='http',\n",
    "        uri='api/stroom-index/v2',traceLevel=\"0\",\n",
    "        index='5b41ebbf-b53e-41e6-a4e5-e5a220d8fd69',pipeline='13143179-b494-4146-ac4b-9a6010cada89',\n",
    "        maxResults='300000').filter((col('idxEventTime') > '2019-12-08T00:00:00.000Z')\n",
    "            & (col('idxEventTime') < '2019-12-24T00:00:00.000Z')\n",
    "            & (col('idxDescription') == 'Authentication Failure'))\n",
    "\n",
    "print ('Using ', schemaDf.count(), ' records for training')\n",
    "json_schema = spark.read.json(schemaDf.rdd.map(lambda row: row.json)).schema\n",
    "\n",
    "json_schema"
   ]
  },
  {
   "cell_type": "markdown",
   "metadata": {},
   "source": [
    "## Feature Engineering\n",
    "Creating a feature vector suitable for ML"
   ]
  },
  {
   "cell_type": "code",
   "execution_count": 8,
   "metadata": {},
   "outputs": [
    {
     "name": "stdout",
     "output_type": "stream",
     "text": [
      "+-------------------+-------+----+--------------------+-----+\n",
      "|               date|    day|hour|           operation|count|\n",
      "+-------------------+-------+----+--------------------+-----+\n",
      "|2019-12-08 00:00:00| Sunday|  14|Authentication Fa...|    1|\n",
      "|2019-12-08 00:00:00| Sunday|  22|Authentication Fa...|    1|\n",
      "|2019-12-09 00:00:00| Monday|   7|Authentication Fa...|    1|\n",
      "|2019-12-09 00:00:00| Monday|   8|Authentication Fa...|    6|\n",
      "|2019-12-09 00:00:00| Monday|   9|Authentication Fa...|   16|\n",
      "|2019-12-09 00:00:00| Monday|  10|Authentication Fa...|   21|\n",
      "|2019-12-09 00:00:00| Monday|  11|Authentication Fa...|   16|\n",
      "|2019-12-09 00:00:00| Monday|  12|Authentication Fa...|   25|\n",
      "|2019-12-09 00:00:00| Monday|  13|Authentication Fa...|   30|\n",
      "|2019-12-09 00:00:00| Monday|  14|Authentication Fa...|   31|\n",
      "|2019-12-09 00:00:00| Monday|  15|Authentication Fa...|   16|\n",
      "|2019-12-09 00:00:00| Monday|  16|Authentication Fa...|   16|\n",
      "|2019-12-09 00:00:00| Monday|  17|Authentication Fa...|   13|\n",
      "|2019-12-09 00:00:00| Monday|  18|Authentication Fa...|   11|\n",
      "|2019-12-09 00:00:00| Monday|  19|Authentication Fa...|   11|\n",
      "|2019-12-09 00:00:00| Monday|  20|Authentication Fa...|    5|\n",
      "|2019-12-09 00:00:00| Monday|  21|Authentication Fa...|    5|\n",
      "|2019-12-09 00:00:00| Monday|  22|Authentication Fa...|    1|\n",
      "|2019-12-09 00:00:00| Monday|  23|Authentication Fa...|    1|\n",
      "|2019-12-10 00:00:00|Tuesday|   0|Authentication Fa...|    1|\n",
      "+-------------------+-------+----+--------------------+-----+\n",
      "only showing top 20 rows\n",
      "\n",
      "+-------------------+-------+----+--------------------+-----+---------------+------+-------------+\n",
      "|               date|    day|hour|           operation|count|        hourVec|dayCat|       dayVec|\n",
      "+-------------------+-------+----+--------------------+-----+---------------+------+-------------+\n",
      "|2019-12-08 00:00:00| Sunday|  14|Authentication Fa...|    1|(23,[14],[1.0])|   6.0|    (6,[],[])|\n",
      "|2019-12-08 00:00:00| Sunday|  22|Authentication Fa...|    1|(23,[22],[1.0])|   6.0|    (6,[],[])|\n",
      "|2019-12-09 00:00:00| Monday|   7|Authentication Fa...|    1| (23,[7],[1.0])|   3.0|(6,[3],[1.0])|\n",
      "|2019-12-09 00:00:00| Monday|   8|Authentication Fa...|    6| (23,[8],[1.0])|   3.0|(6,[3],[1.0])|\n",
      "|2019-12-09 00:00:00| Monday|   9|Authentication Fa...|   16| (23,[9],[1.0])|   3.0|(6,[3],[1.0])|\n",
      "|2019-12-09 00:00:00| Monday|  10|Authentication Fa...|   21|(23,[10],[1.0])|   3.0|(6,[3],[1.0])|\n",
      "|2019-12-09 00:00:00| Monday|  11|Authentication Fa...|   16|(23,[11],[1.0])|   3.0|(6,[3],[1.0])|\n",
      "|2019-12-09 00:00:00| Monday|  12|Authentication Fa...|   25|(23,[12],[1.0])|   3.0|(6,[3],[1.0])|\n",
      "|2019-12-09 00:00:00| Monday|  13|Authentication Fa...|   30|(23,[13],[1.0])|   3.0|(6,[3],[1.0])|\n",
      "|2019-12-09 00:00:00| Monday|  14|Authentication Fa...|   31|(23,[14],[1.0])|   3.0|(6,[3],[1.0])|\n",
      "|2019-12-09 00:00:00| Monday|  15|Authentication Fa...|   16|(23,[15],[1.0])|   3.0|(6,[3],[1.0])|\n",
      "|2019-12-09 00:00:00| Monday|  16|Authentication Fa...|   16|(23,[16],[1.0])|   3.0|(6,[3],[1.0])|\n",
      "|2019-12-09 00:00:00| Monday|  17|Authentication Fa...|   13|(23,[17],[1.0])|   3.0|(6,[3],[1.0])|\n",
      "|2019-12-09 00:00:00| Monday|  18|Authentication Fa...|   11|(23,[18],[1.0])|   3.0|(6,[3],[1.0])|\n",
      "|2019-12-09 00:00:00| Monday|  19|Authentication Fa...|   11|(23,[19],[1.0])|   3.0|(6,[3],[1.0])|\n",
      "|2019-12-09 00:00:00| Monday|  20|Authentication Fa...|    5|(23,[20],[1.0])|   3.0|(6,[3],[1.0])|\n",
      "|2019-12-09 00:00:00| Monday|  21|Authentication Fa...|    5|(23,[21],[1.0])|   3.0|(6,[3],[1.0])|\n",
      "|2019-12-09 00:00:00| Monday|  22|Authentication Fa...|    1|(23,[22],[1.0])|   3.0|(6,[3],[1.0])|\n",
      "|2019-12-09 00:00:00| Monday|  23|Authentication Fa...|    1|     (23,[],[])|   3.0|(6,[3],[1.0])|\n",
      "|2019-12-10 00:00:00|Tuesday|   0|Authentication Fa...|    1| (23,[0],[1.0])|   2.0|(6,[2],[1.0])|\n",
      "+-------------------+-------+----+--------------------+-----+---------------+------+-------------+\n",
      "only showing top 20 rows\n",
      "\n"
     ]
    }
   ],
   "source": [
    "featuresDf = schemaDf.withColumn('evt', from_json(col('json'), json_schema)).\\\n",
    "    withColumn ('timestamp', to_timestamp(col('evt.EventTime.TimeCreated')).cast(\"timestamp\")).\\\n",
    "    withColumn('operation', col('evt.EventDetail.TypeId')).\\\n",
    "    groupBy(date_trunc('day',\"timestamp\").alias(\"date\"), \n",
    "            date_format('timestamp', 'EEEE').alias(\"day\"), \n",
    "            hour(\"timestamp\").alias(\"hour\"),\n",
    "            col('operation')).\\\n",
    "    count().\\\n",
    "    sort(col('date'),col('hour'))\n",
    "\n",
    "featuresDf.show()\n",
    "\n",
    "\n",
    "# operationNameIndexer = StringIndexer(inputCol=\"operation\",outputCol=\"opCat\")\n",
    "# operationEncoder = OneHotEncoderEstimator(inputCols=['opCat'],outputCols=['opVec'])\n",
    "hourEncoder = OneHotEncoderEstimator(inputCols=['hour'],outputCols=['hourVec'])\n",
    "dayNameIndexer = StringIndexer(inputCol=\"day\",outputCol=\"dayCat\")\n",
    "dayEncoder = OneHotEncoderEstimator(inputCols=['dayCat'],outputCols=['dayVec'])\n",
    "basicPipeline = Pipeline(stages=[hourEncoder, dayNameIndexer, dayEncoder])\n",
    "\n",
    "pipelineModel = basicPipeline.fit(featuresDf)\n",
    "pipelineModel.write().overwrite().save(\"models/inputVecPipelineModel\")\n",
    "\n",
    "vecDf = pipelineModel.transform(featuresDf)\n",
    "\n",
    "vecDf.show()\n"
   ]
  },
  {
   "cell_type": "markdown",
   "metadata": {},
   "source": [
    "We can now create the entire feature vector.  Shown below with what will be the required output vector (actually a simple scalar \"count\")"
   ]
  },
  {
   "cell_type": "code",
   "execution_count": 9,
   "metadata": {},
   "outputs": [
    {
     "name": "stdout",
     "output_type": "stream",
     "text": [
      "+--------------------+-----+\n",
      "|            features|count|\n",
      "+--------------------+-----+\n",
      "|     (29,[14],[1.0])|    1|\n",
      "|     (29,[22],[1.0])|    1|\n",
      "|(29,[7,26],[1.0,1...|    1|\n",
      "|(29,[8,26],[1.0,1...|    6|\n",
      "|(29,[9,26],[1.0,1...|   16|\n",
      "|(29,[10,26],[1.0,...|   21|\n",
      "|(29,[11,26],[1.0,...|   16|\n",
      "|(29,[12,26],[1.0,...|   25|\n",
      "|(29,[13,26],[1.0,...|   30|\n",
      "|(29,[14,26],[1.0,...|   31|\n",
      "|(29,[15,26],[1.0,...|   16|\n",
      "|(29,[16,26],[1.0,...|   16|\n",
      "|(29,[17,26],[1.0,...|   13|\n",
      "|(29,[18,26],[1.0,...|   11|\n",
      "|(29,[19,26],[1.0,...|   11|\n",
      "|(29,[20,26],[1.0,...|    5|\n",
      "|(29,[21,26],[1.0,...|    5|\n",
      "|(29,[22,26],[1.0,...|    1|\n",
      "|     (29,[26],[1.0])|    1|\n",
      "|(29,[0,25],[1.0,1...|    1|\n",
      "+--------------------+-----+\n",
      "only showing top 20 rows\n",
      "\n"
     ]
    }
   ],
   "source": [
    "vectorAssembler = VectorAssembler(inputCols = ['hourVec','dayVec'], outputCol = 'features')\n",
    "\n",
    "trainingDf = vectorAssembler.transform(vecDf).select('features','count')\n",
    "\n",
    "trainingDf.show()\n"
   ]
  },
  {
   "cell_type": "markdown",
   "metadata": {},
   "source": [
    "## Training (Linear Regression)\n",
    "Now create a Linear Regression to predict the number of auth failures in each hour/day of week.\n",
    "Save the model for later use."
   ]
  },
  {
   "cell_type": "code",
   "execution_count": 10,
   "metadata": {},
   "outputs": [],
   "source": [
    "linearReg = LinearRegression(maxIter=20, regParam=0.001, featuresCol='features', labelCol='count')\n",
    "\n",
    "linearRegModel = linearReg.fit(trainingDf)\n",
    "\n",
    "linearRegModel.write().overwrite().save(\"models/linearRegressionAuthFailuresModel\")"
   ]
  },
  {
   "cell_type": "markdown",
   "metadata": {},
   "source": [
    "## Model Evaluation (Linear Regression)\n",
    "There are many ways that an ML model could be refined and improved.  Here we are only interested in understanding whether the model fits the data.\n"
   ]
  },
  {
   "cell_type": "code",
   "execution_count": 11,
   "metadata": {},
   "outputs": [
    {
     "name": "stdout",
     "output_type": "stream",
     "text": [
      "Mean Absolute Error 3.292371960739538 Residuals DataFrame[residuals: double]\n"
     ]
    }
   ],
   "source": [
    "summaryInfo = linearRegModel.evaluate(trainingDf)\n",
    "print (\"Mean Absolute Error\", summaryInfo.meanAbsoluteError, \"Residuals\", summaryInfo.residuals)"
   ]
  },
  {
   "cell_type": "code",
   "execution_count": 12,
   "metadata": {},
   "outputs": [
    {
     "name": "stdout",
     "output_type": "stream",
     "text": [
      "+--------------------+-----+------------------+\n",
      "|            features|count|        prediction|\n",
      "+--------------------+-----+------------------+\n",
      "|     (29,[14],[1.0])|    1| 6.555973381511475|\n",
      "|     (29,[22],[1.0])|    1|-7.270283360971843|\n",
      "|(29,[7,26],[1.0,1...|    1|5.0790358057289335|\n",
      "|(29,[8,26],[1.0,1...|    6|7.9394014613871295|\n",
      "|(29,[9,26],[1.0,1...|   16|13.086953493613871|\n",
      "|(29,[10,26],[1.0,...|   21|18.002570782066748|\n",
      "|(29,[11,26],[1.0,...|   16| 20.60465112558277|\n",
      "|(29,[12,26],[1.0,...|   25|21.492568904673462|\n",
      "|(29,[13,26],[1.0,...|   30| 23.18054079271544|\n",
      "|(29,[14,26],[1.0,...|   31|19.421370222186795|\n",
      "|(29,[15,26],[1.0,...|   16|18.707163779950015|\n",
      "|(29,[16,26],[1.0,...|   16|17.493012828147492|\n",
      "|(29,[17,26],[1.0,...|   13| 12.34841936939023|\n",
      "|(29,[18,26],[1.0,...|   11|13.464921706757428|\n",
      "|(29,[19,26],[1.0,...|   11| 9.111181549376402|\n",
      "|(29,[20,26],[1.0,...|    5| 7.348978712470895|\n",
      "|(29,[21,26],[1.0,...|    5| 6.115948669800332|\n",
      "|(29,[22,26],[1.0,...|    1|  5.59511347970348|\n",
      "|     (29,[26],[1.0])|    1| 4.529820828074259|\n",
      "|(29,[0,25],[1.0,1...|    1| 4.749164492861565|\n",
      "+--------------------+-----+------------------+\n",
      "only showing top 20 rows\n",
      "\n"
     ]
    }
   ],
   "source": [
    "linearRegModel.transform(trainingDf).show()"
   ]
  },
  {
   "cell_type": "markdown",
   "metadata": {},
   "source": [
    "## Training (Logistic Regression)\n",
    "Although the required prediction is a continuous number, there are possibly so few values that a logistic regression can be used.  Let's try!"
   ]
  },
  {
   "cell_type": "code",
   "execution_count": 13,
   "metadata": {},
   "outputs": [],
   "source": [
    "logisticReg = LogisticRegression(maxIter=20, regParam=0.001, featuresCol='features', labelCol='count')\n",
    "\n",
    "logisticRegModel = logisticReg.fit(trainingDf)\n",
    "\n",
    "logisticRegModel.write().overwrite().save(\"models/logisticRegressionAuthFailuresModel\")"
   ]
  },
  {
   "cell_type": "markdown",
   "metadata": {},
   "source": [
    "## Model Evaluation (Logistic Regression)\n",
    "There are many ways that an ML model could be refined and improved.  Here we are only interested in understanding whether the model fits the data.\n"
   ]
  },
  {
   "cell_type": "code",
   "execution_count": 14,
   "metadata": {},
   "outputs": [
    {
     "name": "stdout",
     "output_type": "stream",
     "text": [
      "+--------------------+-----+--------------------+--------------------+----------+\n",
      "|            features|count|       rawPrediction|         probability|prediction|\n",
      "+--------------------+-----+--------------------+--------------------+----------+\n",
      "|     (29,[14],[1.0])|    1|[-2.1631433212228...|[1.19124516688074...|       1.0|\n",
      "|     (29,[22],[1.0])|    1|[-2.0581177605006...|[3.02925063554502...|       1.0|\n",
      "|(29,[7,26],[1.0,1...|    1|[-2.2686740344799...|[5.49477583726992...|       1.0|\n",
      "|(29,[8,26],[1.0,1...|    6|[-2.3589126058195...|[2.18803680242672...|      16.0|\n",
      "|(29,[9,26],[1.0,1...|   16|[-2.3557513308063...|[1.09249672120952...|      16.0|\n",
      "|(29,[10,26],[1.0,...|   21|[-2.3414182895521...|[4.95686434473195...|      16.0|\n",
      "|(29,[11,26],[1.0,...|   16|[-2.3595197366029...|[1.06119311955341...|      31.0|\n",
      "|(29,[12,26],[1.0,...|   25|[-2.3429049530476...|[1.14344337315033...|      33.0|\n",
      "|(29,[13,26],[1.0,...|   30|[-2.3553860157658...|[1.08143829586599...|      30.0|\n",
      "|(29,[14,26],[1.0,...|   31|[-2.3772955227485...|[8.11641137535756...|      31.0|\n",
      "|(29,[15,26],[1.0,...|   16|[-2.3718496945336...|[9.23847099628807...|      16.0|\n",
      "|(29,[16,26],[1.0,...|   16|[-2.3283344956570...|[9.09150443584452...|      16.0|\n",
      "|(29,[17,26],[1.0,...|   13|[-2.3813016550704...|[2.07953022868275...|      11.0|\n",
      "|(29,[18,26],[1.0,...|   11|[-2.3451269522221...|[5.57826275653021...|      16.0|\n",
      "|(29,[19,26],[1.0,...|   11|[-2.3365301317106...|[2.30420386238935...|      11.0|\n",
      "|(29,[20,26],[1.0,...|    5|[-2.3081813393889...|[1.43994784022784...|       5.0|\n",
      "|(29,[21,26],[1.0,...|    5|[-2.2880386640077...|[7.69821996133875...|       5.0|\n",
      "|(29,[22,26],[1.0,...|    1|[-2.2722699620263...|[6.23190248454927...|       2.0|\n",
      "|     (29,[26],[1.0])|    1|[-2.1687841328515...|[6.11847772474066...|       1.0|\n",
      "|(29,[0,25],[1.0,1...|    1|[-2.2536603388919...|[3.08557009047679...|       3.0|\n",
      "+--------------------+-----+--------------------+--------------------+----------+\n",
      "only showing top 20 rows\n",
      "\n"
     ]
    }
   ],
   "source": [
    "logisticRegModel.transform(trainingDf).show()"
   ]
  },
  {
   "cell_type": "markdown",
   "metadata": {},
   "source": [
    "## Training (Random Forest Regression)\n",
    "Maybe a decision tree / random forest approach might be more successful."
   ]
  },
  {
   "cell_type": "code",
   "execution_count": 15,
   "metadata": {},
   "outputs": [],
   "source": [
    "randomForestRegressor = RandomForestRegressor(featuresCol='features', labelCol='count')\n",
    "\n",
    "randomForestModel = randomForestRegressor.fit(trainingDf)\n",
    "\n",
    "randomForestModel.write().overwrite().save(\"models/randomForestAuthFailuresModel\")"
   ]
  },
  {
   "cell_type": "markdown",
   "metadata": {},
   "source": [
    "## Model Evaluation (Random Forest Regression)\n",
    "There are many ways that an ML model could be refined and improved.  Here we are only interested in understanding whether the model fits the data."
   ]
  },
  {
   "cell_type": "code",
   "execution_count": 16,
   "metadata": {},
   "outputs": [
    {
     "name": "stdout",
     "output_type": "stream",
     "text": [
      "+--------------------+-----+------------------+\n",
      "|            features|count|        prediction|\n",
      "+--------------------+-----+------------------+\n",
      "|     (29,[14],[1.0])|    1| 9.296174154562895|\n",
      "|     (29,[22],[1.0])|    1| 6.372897085061266|\n",
      "|(29,[7,26],[1.0,1...|    1| 6.876284959473503|\n",
      "|(29,[8,26],[1.0,1...|    6| 8.738633311467257|\n",
      "|(29,[9,26],[1.0,1...|   16| 8.738633311467257|\n",
      "|(29,[10,26],[1.0,...|   21|11.729651891699124|\n",
      "|(29,[11,26],[1.0,...|   16| 17.86019124883081|\n",
      "|(29,[12,26],[1.0,...|   25|18.418382159382045|\n",
      "|(29,[13,26],[1.0,...|   30|20.409249132398266|\n",
      "|(29,[14,26],[1.0,...|   31|10.345037605024945|\n",
      "|(29,[15,26],[1.0,...|   16|13.347927376863652|\n",
      "|(29,[16,26],[1.0,...|   16| 9.645655072509118|\n",
      "|(29,[17,26],[1.0,...|   13| 8.738633311467257|\n",
      "|(29,[18,26],[1.0,...|   11| 8.738633311467257|\n",
      "|(29,[19,26],[1.0,...|   11| 8.738633311467257|\n",
      "|(29,[20,26],[1.0,...|    5| 8.738633311467257|\n",
      "|(29,[21,26],[1.0,...|    5| 8.738633311467257|\n",
      "|(29,[22,26],[1.0,...|    1| 6.631452995840776|\n",
      "|     (29,[26],[1.0])|    1| 8.738633311467257|\n",
      "|(29,[0,25],[1.0,1...|    1| 7.458207652788587|\n",
      "+--------------------+-----+------------------+\n",
      "only showing top 20 rows\n",
      "\n"
     ]
    }
   ],
   "source": [
    "randomForestModel.transform(trainingDf).show()"
   ]
  },
  {
   "cell_type": "code",
   "execution_count": null,
   "metadata": {},
   "outputs": [],
   "source": []
  }
 ],
 "metadata": {
  "kernelspec": {
   "display_name": "Python 3",
   "language": "python",
   "name": "python3"
  },
  "language_info": {
   "codemirror_mode": {
    "name": "ipython",
    "version": 3
   },
   "file_extension": ".py",
   "mimetype": "text/x-python",
   "name": "python",
   "nbconvert_exporter": "python",
   "pygments_lexer": "ipython3",
   "version": "3.7.10"
  }
 },
 "nbformat": 4,
 "nbformat_minor": 2
}
